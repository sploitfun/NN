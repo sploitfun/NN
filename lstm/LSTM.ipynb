{
 "cells": [
  {
   "cell_type": "code",
   "execution_count": 2,
   "metadata": {},
   "outputs": [
    {
     "name": "stderr",
     "output_type": "stream",
     "text": [
      "Using Theano backend.\n"
     ]
    }
   ],
   "source": [
    "#Import Packages\n",
    "\n",
    "#To build a NN model\n",
    "from keras.models import Sequential\n",
    "\n",
    "#To build a densely connected NN layer\n",
    "from keras.layers import Dense\n",
    "\n",
    "#To build LSTM\n",
    "from keras.layers import LSTM\n",
    "\n",
    "#Word Embeddings - Words are converted to real value vectors in n-dimension space\n",
    "#Embedding in keras provides a convenient way to convert positive integer representations of words into a word embeddings\n",
    "from keras.layers.embeddings import Embedding\n",
    "\n",
    "#For padding\n",
    "from keras.preprocessing import sequence\n",
    "\n",
    "#Math ops\n",
    "import numpy\n",
    "\n",
    "#IMDB Dataset\n",
    "from keras.datasets import imdb"
   ]
  },
  {
   "cell_type": "code",
   "execution_count": 3,
   "metadata": {
    "collapsed": true
   },
   "outputs": [],
   "source": [
    "#Load dataset but only keep the top n words, zero the rest\n",
    "top_words = 5000\n",
    "(X_train, y_train), (X_test, y_test) = imdb.load_data(num_words=top_words)"
   ]
  },
  {
   "cell_type": "code",
   "execution_count": 5,
   "metadata": {},
   "outputs": [
    {
     "name": "stdout",
     "output_type": "stream",
     "text": [
      "First Movie Review (In Integer Representation):\n",
      "[1, 14, 22, 16, 43, 530, 973, 1622, 1385, 65, 458, 4468, 66, 3941, 4, 173, 36, 256, 5, 25, 100, 43, 838, 112, 50, 670, 2, 9, 35, 480, 284, 5, 150, 4, 172, 112, 167, 2, 336, 385, 39, 4, 172, 4536, 1111, 17, 546, 38, 13, 447, 4, 192, 50, 16, 6, 147, 2025, 19, 14, 22, 4, 1920, 4613, 469, 4, 22, 71, 87, 12, 16, 43, 530, 38, 76, 15, 13, 1247, 4, 22, 17, 515, 17, 12, 16, 626, 18, 2, 5, 62, 386, 12, 8, 316, 8, 106, 5, 4, 2223, 2, 16, 480, 66, 3785, 33, 4, 130, 12, 16, 38, 619, 5, 25, 124, 51, 36, 135, 48, 25, 1415, 33, 6, 22, 12, 215, 28, 77, 52, 5, 14, 407, 16, 82, 2, 8, 4, 107, 117, 2, 15, 256, 4, 2, 7, 3766, 5, 723, 36, 71, 43, 530, 476, 26, 400, 317, 46, 7, 4, 2, 1029, 13, 104, 88, 4, 381, 15, 297, 98, 32, 2071, 56, 26, 141, 6, 194, 2, 18, 4, 226, 22, 21, 134, 476, 26, 480, 5, 144, 30, 2, 18, 51, 36, 28, 224, 92, 25, 104, 4, 226, 65, 16, 38, 1334, 88, 12, 16, 283, 5, 16, 4472, 113, 103, 32, 15, 16, 2, 19, 178, 32]\n",
      "First Movie Review's Target Category:\n",
      "1\n"
     ]
    }
   ],
   "source": [
    "print \"First Movie Review (In Integer Representation):\"\n",
    "print X_train[0]\n",
    "print \"First Movie Review's Target Category:\"\n",
    "print y_train[0]"
   ]
  },
  {
   "cell_type": "code",
   "execution_count": 6,
   "metadata": {
    "collapsed": true
   },
   "outputs": [],
   "source": [
    "#Truncate and pad input sequences\n",
    "max_review_length = 500\n",
    "X_train = sequence.pad_sequences(X_train, maxlen=max_review_length)\n",
    "X_test = sequence.pad_sequences(X_test, maxlen=max_review_length)"
   ]
  },
  {
   "cell_type": "code",
   "execution_count": 7,
   "metadata": {},
   "outputs": [
    {
     "name": "stdout",
     "output_type": "stream",
     "text": [
      "_________________________________________________________________\n",
      "Layer (type)                 Output Shape              Param #   \n",
      "=================================================================\n",
      "embedding_1 (Embedding)      (None, 500, 32)           160000    \n",
      "_________________________________________________________________\n",
      "lstm_1 (LSTM)                (None, 100)               53200     \n",
      "_________________________________________________________________\n",
      "dense_1 (Dense)              (None, 1)                 101       \n",
      "=================================================================\n",
      "Total params: 213,301\n",
      "Trainable params: 213,301\n",
      "Non-trainable params: 0\n",
      "_________________________________________________________________\n"
     ]
    }
   ],
   "source": [
    "embedding_vecor_length = 32\n",
    "\n",
    "#Build NN model\n",
    "model = Sequential()\n",
    "\n",
    "#Build Embedding Layer\n",
    "#In this example\n",
    "    #top_words = input_dim ie) the largest integer (i.e. word index) in the input should be no larger than 5000 (top_words).\n",
    "    #embedding_vecor_length = output_dim ie)each word is converted to real valued vectors of dimension 1*32\n",
    "    #input_length = max_review_length = 500\n",
    "#Input to this layer is 500 words (in integer representation) and output is 500*32 ie) each word (out of 500 words) \n",
    "#is converted to real valued vector of dimension 1*32\n",
    "model.add(Embedding(top_words, embedding_vecor_length, input_length=max_review_length))\n",
    "\n",
    "#Build LSTM model\n",
    "model.add(LSTM(100))\n",
    "\n",
    "#Using Dense add output layer which contains 1 output unit\n",
    "model.add(Dense(1, activation='sigmoid'))\n",
    "\n",
    "model.summary()"
   ]
  },
  {
   "cell_type": "markdown",
   "metadata": {},
   "source": [
    "**Model Parameters:** In our example total paramters is **213,301**. Lets see how is this calculated.\n",
    "\n",
    "Total Params = 213,301 = 160000 + 53200 + 101\n",
    "\n",
    "**160000** = 5000 * 32 = 160000\n",
    "\n",
    "where 5000 = top_words and 32 = embedding_vector_length\n",
    "\n",
    "**53200** = (((100*32)+(100*100))*4) + (100*4)\n",
    "\n",
    "where 100 = LSTM units, 32 = Input units, 4 = No of gates (Candidate State, Input, Output and Forget Gates) and 100 = Bias units\n",
    "\n",
    "**101** = (1*100) + 1\n",
    "\n",
    "where 1 = Output unit, 100 = LSTM units and 1 = Bias unit"
   ]
  },
  {
   "cell_type": "code",
   "execution_count": 8,
   "metadata": {
    "collapsed": true
   },
   "outputs": [],
   "source": [
    "#Configure the learning process.\n",
    "model.compile(loss='binary_crossentropy', optimizer='adam', metrics=['accuracy'])"
   ]
  },
  {
   "cell_type": "code",
   "execution_count": 9,
   "metadata": {},
   "outputs": [
    {
     "name": "stdout",
     "output_type": "stream",
     "text": [
      "Epoch 1/3\n",
      "25000/25000 [==============================] - 468s - loss: 0.5039 - acc: 0.7400   \n",
      "Epoch 2/3\n",
      "25000/25000 [==============================] - 386s - loss: 0.3089 - acc: 0.8734   \n",
      "Epoch 3/3\n",
      "25000/25000 [==============================] - 379s - loss: 0.2654 - acc: 0.8971   \n"
     ]
    },
    {
     "data": {
      "text/plain": [
       "<keras.callbacks.History at 0x7f1be51e8cd0>"
      ]
     },
     "execution_count": 9,
     "metadata": {},
     "output_type": "execute_result"
    }
   ],
   "source": [
    "#Train the LSTM model for 3 epochs and after training the model with a batch_size of 64 training samples, perform parameter update.\n",
    "model.fit(X_train, y_train, epochs=3, batch_size=64)"
   ]
  },
  {
   "cell_type": "code",
   "execution_count": 10,
   "metadata": {},
   "outputs": [
    {
     "name": "stdout",
     "output_type": "stream",
     "text": [
      "Accuracy: 86.59%\n"
     ]
    }
   ],
   "source": [
    "#Compute the loss on test data.\n",
    "score, acc = model.evaluate(X_test, y_test, verbose=0)\n",
    "#Print the accuracy\n",
    "print(\"Accuracy: %.2f%%\" % (acc*100))"
   ]
  },
  {
   "cell_type": "code",
   "execution_count": 11,
   "metadata": {},
   "outputs": [
    {
     "name": "stdout",
     "output_type": "stream",
     "text": [
      "Target Review Category:1, Predicted Review Category:1\n",
      "Target Review Category:1, Predicted Review Category:1\n",
      "Target Review Category:0, Predicted Review Category:0\n"
     ]
    }
   ],
   "source": [
    "#Lets now perform prediction\n",
    "predicted_classes = model.predict_classes(X_test, verbose=0)\n",
    "#Print target values and its predicted values.\n",
    "print 'Target Review Category:%d, Predicted Review Category:%d' %(y_test[0], predicted_classes[0])\n",
    "print 'Target Review Category:%d, Predicted Review Category:%d' %(y_test[99], predicted_classes[99])\n",
    "print 'Target Review Category:%d, Predicted Review Category:%d' %(y_test[9999], predicted_classes[9999])"
   ]
  },
  {
   "cell_type": "markdown",
   "metadata": {},
   "source": [
    "Reference:\n",
    "\n",
    "    1. https://github.com/fchollet/keras/blob/master/examples/imdb_lstm.py"
   ]
  }
 ],
 "metadata": {
  "kernelspec": {
   "display_name": "Python 2",
   "language": "python",
   "name": "python2"
  },
  "language_info": {
   "codemirror_mode": {
    "name": "ipython",
    "version": 2
   },
   "file_extension": ".py",
   "mimetype": "text/x-python",
   "name": "python",
   "nbconvert_exporter": "python",
   "pygments_lexer": "ipython2",
   "version": "2.7.13"
  }
 },
 "nbformat": 4,
 "nbformat_minor": 2
}
