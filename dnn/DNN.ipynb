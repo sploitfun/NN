{
 "cells": [
  {
   "cell_type": "code",
   "execution_count": 1,
   "metadata": {},
   "outputs": [
    {
     "name": "stderr",
     "output_type": "stream",
     "text": [
      "Using Theano backend.\n"
     ]
    }
   ],
   "source": [
    "#Import Packages\n",
    "\n",
    "#To build a NN model\n",
    "from keras.models import Sequential\n",
    "\n",
    "#To build a densely connected NN layer\n",
    "from keras.layers import Dense\n",
    "\n",
    "#Regularization Function\n",
    "from keras.layers import Dropout\n",
    "\n",
    "#Activation Function\n",
    "from keras.layers import Activation\n",
    "\n",
    "#Optimizer - Stochastic Gradient Descent\n",
    "from keras.optimizers import SGD\n",
    "\n",
    "#To convert integer targets to categorical targets#To build a NN model\n",
    "from keras.models import Sequential\n",
    "\n",
    "#To build a densely connected NN layer\n",
    "from keras.layers import Dense\n",
    "\n",
    "#Regularization Function\n",
    "from keras.layers import Dropout\n",
    "#Categorical Targets - N dimension vector which contains all zeros except for a 1 at a corresponding sample index\n",
    "from keras.utils.np_utils import to_categorical\n",
    "\n",
    "#Dataset - Handwritten images\n",
    "from keras.datasets import mnist\n"
   ]
  },
  {
   "cell_type": "code",
   "execution_count": 2,
   "metadata": {},
   "outputs": [
    {
     "name": "stdout",
     "output_type": "stream",
     "text": [
      "Downloading data from https://s3.amazonaws.com/img-datasets/mnist.npz\n"
     ]
    }
   ],
   "source": [
    "(x_train, y_train), (x_test, y_test) = mnist.load_data()"
   ]
  },
  {
   "cell_type": "code",
   "execution_count": 3,
   "metadata": {},
   "outputs": [
    {
     "name": "stdout",
     "output_type": "stream",
     "text": [
      "(60000, 28, 28)\n",
      "(60000,)\n",
      "(10000, 28, 28)\n",
      "(10000,)\n"
     ]
    }
   ],
   "source": [
    "#x_train contains 60000 28*28 grayscale images of 10 digits(0-9).\n",
    "print x_train.shape\n",
    "\n",
    "#y_train contains their corresponding digit labels.\n",
    "print y_train.shape\n",
    "\n",
    "#x_test contains 10000 28*28 grayscale images of 10 digits(0-9).\n",
    "print x_test.shape\n",
    "#y_train contains their corresponding digit labels.\n",
    "print y_test.shape"
   ]
  },
  {
   "cell_type": "code",
   "execution_count": 4,
   "metadata": {
    "collapsed": true
   },
   "outputs": [],
   "source": [
    "#Convert X_train, y_train, X_test and y_test in a format that can be fed into a DNN.\n",
    "X_train = x_train.reshape(60000, 784)\n",
    "Y_train = to_categorical(y_train, 10)\n",
    "X_test = x_test.reshape(10000, 784)\n",
    "Y_test = to_categorical(y_test, 10)"
   ]
  },
  {
   "cell_type": "code",
   "execution_count": 5,
   "metadata": {},
   "outputs": [
    {
     "name": "stdout",
     "output_type": "stream",
     "text": [
      "(60000, 784)\n",
      "(60000,)\n",
      "(10000, 784)\n",
      "(10000,)\n"
     ]
    }
   ],
   "source": [
    "print X_train.shape\n",
    "print y_train.shape\n",
    "print X_test.shape\n",
    "print y_test.shape"
   ]
  },
  {
   "cell_type": "code",
   "execution_count": 6,
   "metadata": {},
   "outputs": [
    {
     "name": "stdout",
     "output_type": "stream",
     "text": [
      "Pixel values of input digit image:\n",
      "[  0   0   0   0   0   0   0   0   0   0   0   0   0   0   0   0   0   0\n",
      "   0   0   0   0   0   0   0   0   0   0   0   0   0   0   0   0   0   0\n",
      "   0   0   0   0   0   0   0   0   0   0   0   0   0   0   0   0   0   0\n",
      "   0   0   0   0   0   0   0   0   0   0   0   0   0   0   0   0   0   0\n",
      "   0   0   0   0   0   0   0   0   0   0   0   0   0   0   0   0   0   0\n",
      "   0   0   0   0   0   0   0   0   0   0   0   0   0   0   0   0   0   0\n",
      "   0   0   0   0   0   0   0   0   0   0   0   0   0   0   0   0   0   0\n",
      "   0   0   0   0   0   0   0   0   0   0   0   0   0   0   0   0   0   0\n",
      "   0   0   0   0   0   0   0   0   3  18  18  18 126 136 175  26 166 255\n",
      " 247 127   0   0   0   0   0   0   0   0   0   0   0   0  30  36  94 154\n",
      " 170 253 253 253 253 253 225 172 253 242 195  64   0   0   0   0   0   0\n",
      "   0   0   0   0   0  49 238 253 253 253 253 253 253 253 253 251  93  82\n",
      "  82  56  39   0   0   0   0   0   0   0   0   0   0   0   0  18 219 253\n",
      " 253 253 253 253 198 182 247 241   0   0   0   0   0   0   0   0   0   0\n",
      "   0   0   0   0   0   0   0   0  80 156 107 253 253 205  11   0  43 154\n",
      "   0   0   0   0   0   0   0   0   0   0   0   0   0   0   0   0   0   0\n",
      "   0  14   1 154 253  90   0   0   0   0   0   0   0   0   0   0   0   0\n",
      "   0   0   0   0   0   0   0   0   0   0   0   0   0 139 253 190   2   0\n",
      "   0   0   0   0   0   0   0   0   0   0   0   0   0   0   0   0   0   0\n",
      "   0   0   0   0   0  11 190 253  70   0   0   0   0   0   0   0   0   0\n",
      "   0   0   0   0   0   0   0   0   0   0   0   0   0   0   0   0  35 241\n",
      " 225 160 108   1   0   0   0   0   0   0   0   0   0   0   0   0   0   0\n",
      "   0   0   0   0   0   0   0   0   0  81 240 253 253 119  25   0   0   0\n",
      "   0   0   0   0   0   0   0   0   0   0   0   0   0   0   0   0   0   0\n",
      "   0   0  45 186 253 253 150  27   0   0   0   0   0   0   0   0   0   0\n",
      "   0   0   0   0   0   0   0   0   0   0   0   0   0  16  93 252 253 187\n",
      "   0   0   0   0   0   0   0   0   0   0   0   0   0   0   0   0   0   0\n",
      "   0   0   0   0   0   0   0 249 253 249  64   0   0   0   0   0   0   0\n",
      "   0   0   0   0   0   0   0   0   0   0   0   0   0   0  46 130 183 253\n",
      " 253 207   2   0   0   0   0   0   0   0   0   0   0   0   0   0   0   0\n",
      "   0   0   0   0  39 148 229 253 253 253 250 182   0   0   0   0   0   0\n",
      "   0   0   0   0   0   0   0   0   0   0   0   0  24 114 221 253 253 253\n",
      " 253 201  78   0   0   0   0   0   0   0   0   0   0   0   0   0   0   0\n",
      "   0   0  23  66 213 253 253 253 253 198  81   2   0   0   0   0   0   0\n",
      "   0   0   0   0   0   0   0   0   0   0  18 171 219 253 253 253 253 195\n",
      "  80   9   0   0   0   0   0   0   0   0   0   0   0   0   0   0   0   0\n",
      "  55 172 226 253 253 253 253 244 133  11   0   0   0   0   0   0   0   0\n",
      "   0   0   0   0   0   0   0   0   0   0 136 253 253 253 212 135 132  16\n",
      "   0   0   0   0   0   0   0   0   0   0   0   0   0   0   0   0   0   0\n",
      "   0   0   0   0   0   0   0   0   0   0   0   0   0   0   0   0   0   0\n",
      "   0   0   0   0   0   0   0   0   0   0   0   0   0   0   0   0   0   0\n",
      "   0   0   0   0   0   0   0   0   0   0   0   0   0   0   0   0   0   0\n",
      "   0   0   0   0   0   0   0   0   0   0   0   0   0   0   0   0   0   0\n",
      "   0   0   0   0   0   0   0   0   0   0]\n",
      "Target digit value :\n",
      "7\n"
     ]
    }
   ],
   "source": [
    "#Lets print out first sample which happens to be digit 7.\n",
    "\n",
    "#Pixel values represent the brightness of the image, its value ranges from 0-255. \n",
    "#Typically 0 is taken to be white and 255 is taken to be black.\n",
    "print \"Pixel values of input digit image:\"\n",
    "print X_train[0]\n",
    "print \"Target digit value :\" \n",
    "print y_test[0]"
   ]
  },
  {
   "cell_type": "code",
   "execution_count": 7,
   "metadata": {},
   "outputs": [
    {
     "name": "stdout",
     "output_type": "stream",
     "text": [
      "_________________________________________________________________\n",
      "Layer (type)                 Output Shape              Param #   \n",
      "=================================================================\n",
      "dense_1 (Dense)              (None, 25)                19625     \n",
      "_________________________________________________________________\n",
      "dropout_1 (Dropout)          (None, 25)                0         \n",
      "_________________________________________________________________\n",
      "dense_2 (Dense)              (None, 10)                260       \n",
      "=================================================================\n",
      "Total params: 19,885\n",
      "Trainable params: 19,885\n",
      "Non-trainable params: 0\n",
      "_________________________________________________________________\n"
     ]
    }
   ],
   "source": [
    "#Build NN model\n",
    "model = Sequential()\n",
    "\n",
    "#Using Dense add input layer and hidden layer.\n",
    "#In this example - \n",
    "    #Input layer contains 784 input units ie) one input unit for each pixel value.\n",
    "    #Hidden layer contains 25 (arbitrarily chosen) hidden units.\n",
    "    #Apply sigmoid activation function in hidden layer. \n",
    "model.add(Dense(25, input_dim=784, activation='sigmoid'))\n",
    "\n",
    "#Dropout helps to prevent overfitting\n",
    "model.add(Dropout(0.2))\n",
    "\n",
    "#Using Dense add output layer which contains 10 output units - one per each digit (0-9).\n",
    "#Apply softmax activation function in output layer.\n",
    "model.add(Dense(10,  activation='softmax'))\n",
    "model.summary()\n"
   ]
  },
  {
   "cell_type": "markdown",
   "metadata": {},
   "source": [
    "**Model Parameters**: In our example total params is **19885**. Lets see how its calculated.\n",
    "\n",
    "Total Params = 19885 = 19625 + 260\n",
    "\n",
    " **19625** = (784 * 25) + 25\n",
    " \n",
    " where \n",
    " 784 = Input Units, 25 = Hidden Units and 25 = Bias Units\n",
    " \n",
    " **260** = (25 * 10) + 10\n",
    " \n",
    " where\n",
    " 25 = Hidden Units, 10 = Output Units and 10 = Bias Units"
   ]
  },
  {
   "cell_type": "code",
   "execution_count": 8,
   "metadata": {
    "collapsed": true
   },
   "outputs": [],
   "source": [
    "#Configure the learning process.\n",
    "model.compile(optimizer='rmsprop', loss='categorical_crossentropy', metrics=[\"accuracy\"])"
   ]
  },
  {
   "cell_type": "code",
   "execution_count": 9,
   "metadata": {},
   "outputs": [
    {
     "name": "stdout",
     "output_type": "stream",
     "text": [
      "Epoch 1/10\n",
      "60000/60000 [==============================] - 2s - loss: 0.9449 - acc: 0.7267     \n",
      "Epoch 2/10\n",
      "60000/60000 [==============================] - 2s - loss: 0.5453 - acc: 0.8389     \n",
      "Epoch 3/10\n",
      "60000/60000 [==============================] - 2s - loss: 0.4966 - acc: 0.8544     \n",
      "Epoch 4/10\n",
      "60000/60000 [==============================] - 2s - loss: 0.4683 - acc: 0.8634     \n",
      "Epoch 5/10\n",
      "60000/60000 [==============================] - 2s - loss: 0.4514 - acc: 0.8679     - ETA: 2s - loss: 0.4229 - acc: 0\n",
      "Epoch 6/10\n",
      "60000/60000 [==============================] - 2s - loss: 0.4498 - acc: 0.8704     \n",
      "Epoch 7/10\n",
      "60000/60000 [==============================] - 2s - loss: 0.4403 - acc: 0.8735     \n",
      "Epoch 8/10\n",
      "60000/60000 [==============================] - 2s - loss: 0.4291 - acc: 0.8775     \n",
      "Epoch 9/10\n",
      "60000/60000 [==============================] - 2s - loss: 0.4278 - acc: 0.8775     \n",
      "Epoch 10/10\n",
      "60000/60000 [==============================] - 2s - loss: 0.4225 - acc: 0.8790     \n"
     ]
    },
    {
     "data": {
      "text/plain": [
       "<keras.callbacks.History at 0x7f15355dc410>"
      ]
     },
     "execution_count": 9,
     "metadata": {},
     "output_type": "execute_result"
    }
   ],
   "source": [
    "#Train the NN model for 10 epochs and after training the model with a batch_size of 32 training samples, perform parameter update.\n",
    "model.fit(X_train, Y_train, epochs=10, batch_size=32, verbose=1)"
   ]
  },
  {
   "cell_type": "code",
   "execution_count": 10,
   "metadata": {},
   "outputs": [
    {
     "name": "stdout",
     "output_type": "stream",
     "text": [
      "\n",
      "Test accuracy:90.570000 %\n"
     ]
    }
   ],
   "source": [
    "#Compute the loss on test data.\n",
    "score,acc = model.evaluate(X_test, Y_test, verbose=0)\n",
    "#Print the accuracy\n",
    "print '\\nTest accuracy:%f %%' %(acc * 100)"
   ]
  },
  {
   "cell_type": "code",
   "execution_count": 11,
   "metadata": {},
   "outputs": [
    {
     "name": "stdout",
     "output_type": "stream",
     "text": [
      "Target Num:7, Output Num:7\n",
      "Target Num:9, Output Num:9\n",
      "Target Num:6, Output Num:6\n"
     ]
    }
   ],
   "source": [
    "#Lets now perform prediction\n",
    "predicted_classes = model.predict_classes(X_test, verbose=0)\n",
    "#Print target values and its predicted values.\n",
    "print 'Target Num:%d, Output Num:%d' %(y_test[0], predicted_classes[0])\n",
    "print 'Target Num:%d, Output Num:%d' %(y_test[99], predicted_classes[99])\n",
    "print 'Target Num:%d, Output Num:%d' %(y_test[9999], predicted_classes[9999])"
   ]
  }
 ],
 "metadata": {
  "kernelspec": {
   "display_name": "Python 2",
   "language": "python",
   "name": "python2"
  },
  "language_info": {
   "codemirror_mode": {
    "name": "ipython",
    "version": 2
   },
   "file_extension": ".py",
   "mimetype": "text/x-python",
   "name": "python",
   "nbconvert_exporter": "python",
   "pygments_lexer": "ipython2",
   "version": "2.7.13"
  }
 },
 "nbformat": 4,
 "nbformat_minor": 2
}
