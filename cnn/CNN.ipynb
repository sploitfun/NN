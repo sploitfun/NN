{
 "cells": [
  {
   "cell_type": "code",
   "execution_count": 1,
   "metadata": {},
   "outputs": [
    {
     "name": "stderr",
     "output_type": "stream",
     "text": [
      "Using Theano backend.\n"
     ]
    }
   ],
   "source": [
    "#Import Packages\n",
    "\n",
    "#To build a NN model\n",
    "from keras.models import Sequential\n",
    "\n",
    "#To build a densely connected NN layer\n",
    "from keras.layers import Dense\n",
    "\n",
    "#To build a 2D convolution layer\n",
    "from keras.layers import Conv2D\n",
    "\n",
    "#Regularization Function\n",
    "from keras.layers import Dropout\n",
    "\n",
    "#To flatten the inputs\n",
    "from keras.layers import Flatten\n",
    "\n",
    "#MaxPooling operations for spatial data\n",
    "from keras.layers import MaxPooling2D\n",
    "\n",
    "#Categorical Targets - N dimension vector which contains all zeros except for a 1 at a corresponding sample index\n",
    "from keras.utils.np_utils import to_categorical\n",
    "\n",
    "#Optimizer\n",
    "from keras.optimizers import Adadelta\n",
    "\n",
    "#MNIST Dataset\n",
    "from keras.datasets import mnist"
   ]
  },
  {
   "cell_type": "code",
   "execution_count": 2,
   "metadata": {},
   "outputs": [
    {
     "name": "stdout",
     "output_type": "stream",
     "text": [
      "(60000, 28, 28)\n",
      "(60000,)\n",
      "(10000, 28, 28)\n",
      "(10000,)\n"
     ]
    }
   ],
   "source": [
    "#Fetch Dataset\n",
    "(x_train, y_train), (x_test, y_test) = mnist.load_data()\n",
    "\n",
    "#x_train contains 60000 28*28 grayscale images of 10 digits(0-9).\n",
    "print x_train.shape\n",
    "\n",
    "#y_train contains their corresponding digit labels.\n",
    "print y_train.shape\n",
    "\n",
    "#x_test contains 10000 28*28 grayscale images of 10 digits(0-9).\n",
    "print x_test.shape\n",
    "\n",
    "#y_train contains their corresponding digit labels.\n",
    "print y_test.shape"
   ]
  },
  {
   "cell_type": "code",
   "execution_count": 3,
   "metadata": {
    "collapsed": true
   },
   "outputs": [],
   "source": [
    "#Convert X_train, y_train, X_test and y_test in a format that can be fed into CNN.\n",
    "X_train = x_train.reshape(60000, 28, 28, 1)\n",
    "X_train = X_train.astype('float32')\n",
    "X_train /= 255\n",
    "Y_train = to_categorical(y_train, 10)\n",
    "X_test = x_test.reshape(10000, 28, 28, 1)\n",
    "X_test = X_test.astype('float32')\n",
    "X_test /= 255\n",
    "Y_test = to_categorical(y_test, 10)"
   ]
  },
  {
   "cell_type": "code",
   "execution_count": 4,
   "metadata": {},
   "outputs": [
    {
     "name": "stdout",
     "output_type": "stream",
     "text": [
      "(60000, 28, 28, 1)\n",
      "(60000,)\n",
      "(10000, 28, 28, 1)\n",
      "(10000,)\n"
     ]
    }
   ],
   "source": [
    "print X_train.shape\n",
    "print y_train.shape\n",
    "print X_test.shape\n",
    "print y_test.shape"
   ]
  },
  {
   "cell_type": "code",
   "execution_count": 5,
   "metadata": {},
   "outputs": [
    {
     "name": "stdout",
     "output_type": "stream",
     "text": [
      "_________________________________________________________________\n",
      "Layer (type)                 Output Shape              Param #   \n",
      "=================================================================\n",
      "conv2d_1 (Conv2D)            (None, 26, 26, 32)        320       \n",
      "_________________________________________________________________\n",
      "conv2d_2 (Conv2D)            (None, 24, 24, 64)        18496     \n",
      "_________________________________________________________________\n",
      "max_pooling2d_1 (MaxPooling2 (None, 12, 12, 64)        0         \n",
      "_________________________________________________________________\n",
      "dropout_1 (Dropout)          (None, 12, 12, 64)        0         \n",
      "_________________________________________________________________\n",
      "flatten_1 (Flatten)          (None, 9216)              0         \n",
      "_________________________________________________________________\n",
      "dense_1 (Dense)              (None, 128)               1179776   \n",
      "_________________________________________________________________\n",
      "dropout_2 (Dropout)          (None, 128)               0         \n",
      "_________________________________________________________________\n",
      "dense_2 (Dense)              (None, 10)                1290      \n",
      "=================================================================\n",
      "Total params: 1,199,882\n",
      "Trainable params: 1,199,882\n",
      "Non-trainable params: 0\n",
      "_________________________________________________________________\n"
     ]
    }
   ],
   "source": [
    "#Build NN model\n",
    "model = Sequential()\n",
    "\n",
    "#Build a 2D Convolution Layer\n",
    "#Here\n",
    "    #32 = Number of filters/kernels\n",
    "    #kernel_size = Filter size which is 3*3\n",
    "    #Relu Layer follows Convolution Layer\n",
    "    #Input to Convolution Layer is 28*28*1 ie) Height = 28, Width=28 and Depth=1 (Grayscale images)\n",
    "    #Output of below Conv 2D/Relu Layer is 26*26*32. Its calculated using below formula:\n",
    "        #Output Volume = ((N-F)/stride) + 1\n",
    "        #Where\n",
    "            #N = 28 = Input Height\n",
    "            #F = 3 = Filter Size Height\n",
    "            #Stride = 1\n",
    "        #((28 - 3)/1) + 1 = 26. Thus output volume = 26*26*32\n",
    "        #Where\n",
    "            #32 = Number of filters\n",
    "        #For every application of filter we get an activation map of 26*26*1. Thus for a total of 32 filters we get 26*26*32 activation maps.\n",
    "model.add(Conv2D(32, kernel_size=(3, 3), activation='relu', input_shape=(28, 28, 1)))\n",
    "\n",
    "\n",
    "#Build another 2D Convolution Layer - Output of previous Relu Layer is fed as input to this Conv 2D Layer ie) Input volume is 26*26*32\n",
    "#Here\n",
    "    #64 = Number of filters/kernels\n",
    "    #kernel_size = Filter size which is 3*3\n",
    "    #Relu Layer follows Convultion Layer\n",
    "#Using above said explanation, output volume of this Conv 2D/Relu Layer is 24*24*64\n",
    "model.add(Conv2D(64, (3, 3), activation='relu'))\n",
    "\n",
    "#Output of previous Conv 2D/Relu Layer is fed as input to this Pooling Layer ie) Input volume is 24*24*64\n",
    "#MaxPooling chooses the maximum value of a pool size subset of the input volume ie) Input volume is segmented as 2*2 inputs and the maximum of it is chosen for that segmented input. \n",
    "#Output Volume of this MaxPooling Layer is 12*12*64\n",
    "model.add(MaxPooling2D(pool_size=(2, 2)))\n",
    "\n",
    "#Dropout helps to prevent overfitting\n",
    "model.add(Dropout(0.25))\n",
    "\n",
    "#Flatten the output of previous MaxPooling Layer ie) here 12*12*64 flattens to 9216\n",
    "model.add(Flatten())\n",
    "\n",
    "#Add a Fully Connected Layer - Output of previous MaxPooling Layer is fed as input to this Fully Connected Layer\n",
    "#Using Dense add a hidden layer which contains 128 hidden units\n",
    "#Apply relu activation function for this hidden layer. \n",
    "model.add(Dense(128, activation='relu'))\n",
    "\n",
    "model.add(Dropout(0.5))\n",
    "\n",
    "#Using Dense add output layer which contains 10 output units - one per each digit (0-9).\n",
    "#Apply softmax activation function in output layer.model.add(Dense(num_classes, activation='softmax'))\n",
    "model.add(Dense(10, activation='softmax'))\n",
    "model.summary()"
   ]
  },
  {
   "cell_type": "markdown",
   "metadata": {},
   "source": [
    "**Model Parameters:** In our example total paramters is . Lets see how is this calculated.\n",
    "\n",
    "Total Params = 1,199,882 = 320 + 18496 + 1179776 + 1290\n",
    "\n",
    "**320** = 32 * ((3*3) + 1)\n",
    "\n",
    "where 32 = Number of filters, 3*3 = Filter Size and 1 = Bias Term\n",
    "\n",
    "**18496** = 64 * ((3*3*32) + 1)\n",
    "\n",
    "where 64 = Number of filters, 3*3*32 = Filter Size and 1 = Bias Term\n",
    "\n",
    "**1179776** = (128 * 9216) + 128\n",
    "\n",
    "where 128 = Hidden Units , 9216 = Flattened Input Units and 128 = Bias Units\n",
    "\n",
    "**1290** = (10 * 128) + 10\n",
    "\n",
    "where 10 = Output Units, 128 = Hidden Units and 10 = Bias Units"
   ]
  },
  {
   "cell_type": "code",
   "execution_count": 6,
   "metadata": {
    "collapsed": true
   },
   "outputs": [],
   "source": [
    "optimizer = Adadelta()\n",
    "#Configure the learning process.\n",
    "model.compile(loss='categorical_crossentropy', optimizer=optimizer, metrics=['accuracy'])"
   ]
  },
  {
   "cell_type": "code",
   "execution_count": 7,
   "metadata": {},
   "outputs": [
    {
     "name": "stdout",
     "output_type": "stream",
     "text": [
      "Epoch 1/5\n",
      "60000/60000 [==============================] - 171s - loss: 0.3325 - acc: 0.8984   \n",
      "Epoch 2/5\n",
      "60000/60000 [==============================] - 169s - loss: 0.1199 - acc: 0.9650   \n",
      "Epoch 3/5\n",
      "60000/60000 [==============================] - 168s - loss: 0.0918 - acc: 0.9726   \n",
      "Epoch 4/5\n",
      "60000/60000 [==============================] - 169s - loss: 0.0769 - acc: 0.9775   \n",
      "Epoch 5/5\n",
      "60000/60000 [==============================] - 167s - loss: 0.0670 - acc: 0.9802   \n"
     ]
    },
    {
     "data": {
      "text/plain": [
       "<keras.callbacks.History at 0x7f615bb4db50>"
      ]
     },
     "execution_count": 7,
     "metadata": {},
     "output_type": "execute_result"
    }
   ],
   "source": [
    "#Train the CNN model for 10 epochs and after training the model with a batch_size of 128 training samples, perform parameter update.\n",
    "model.fit(X_train, Y_train, batch_size=128, epochs=5, verbose=1)"
   ]
  },
  {
   "cell_type": "code",
   "execution_count": 8,
   "metadata": {},
   "outputs": [
    {
     "name": "stdout",
     "output_type": "stream",
     "text": [
      "\n",
      "Test accuracy:98.630000 %\n"
     ]
    }
   ],
   "source": [
    "#Compute the loss on test data.\n",
    "score,acc = model.evaluate(X_test, Y_test, verbose=0)\n",
    "#Print the accuracy\n",
    "print '\\nTest accuracy:%f %%' %(acc * 100)"
   ]
  },
  {
   "cell_type": "code",
   "execution_count": 9,
   "metadata": {},
   "outputs": [
    {
     "name": "stdout",
     "output_type": "stream",
     "text": [
      "Target Num:7, Output Num:7\n",
      "Target Num:9, Output Num:9\n",
      "Target Num:6, Output Num:6\n"
     ]
    }
   ],
   "source": [
    "#Lets now perform prediction\n",
    "predicted_classes = model.predict_classes(X_test, verbose=0)\n",
    "#Print target values and its predicted values.\n",
    "print 'Target Num:%d, Output Num:%d' %(y_test[0], predicted_classes[0])\n",
    "print 'Target Num:%d, Output Num:%d' %(y_test[99], predicted_classes[99])\n",
    "print 'Target Num:%d, Output Num:%d' %(y_test[9999], predicted_classes[9999])"
   ]
  },
  {
   "cell_type": "markdown",
   "metadata": {},
   "source": [
    "Reference:\n",
    "    1. https://github.com/fchollet/keras/blob/master/examples/mnist_cnn.py"
   ]
  }
 ],
 "metadata": {
  "kernelspec": {
   "display_name": "Python 2",
   "language": "python",
   "name": "python2"
  },
  "language_info": {
   "codemirror_mode": {
    "name": "ipython",
    "version": 2
   },
   "file_extension": ".py",
   "mimetype": "text/x-python",
   "name": "python",
   "nbconvert_exporter": "python",
   "pygments_lexer": "ipython2",
   "version": "2.7.13"
  }
 },
 "nbformat": 4,
 "nbformat_minor": 2
}
